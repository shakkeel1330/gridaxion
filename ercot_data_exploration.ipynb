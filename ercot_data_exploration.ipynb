{
 "cells": [
  {
   "cell_type": "code",
   "execution_count": 55,
   "id": "08f0c1de",
   "metadata": {},
   "outputs": [],
   "source": [
    "import pandas as pd\n",
    "from datetime import date, time"
   ]
  },
  {
   "cell_type": "code",
   "execution_count": 48,
   "id": "07d7c697",
   "metadata": {},
   "outputs": [],
   "source": [
    "df = pd.read_csv('rpt.00013091.0000000000000000.20220101080017.DAMASMCPC_2021.csv')\n",
    "ts_df = df[['Delivery Date', 'Hour Ending','REGDN']]\n",
    "ts_df = ts_df.replace('24:00', '00:00')\n",
    "ts_df['Delivery Date'] = ts_df['Delivery Date'] +' '+ ts_df['Hour Ending']\n",
    "# ts_df = ts_df.set_index('Delivery Date')"
   ]
  },
  {
   "cell_type": "code",
   "execution_count": 51,
   "id": "081e40b1",
   "metadata": {},
   "outputs": [
    {
     "data": {
      "text/html": [
       "<div>\n",
       "<style scoped>\n",
       "    .dataframe tbody tr th:only-of-type {\n",
       "        vertical-align: middle;\n",
       "    }\n",
       "\n",
       "    .dataframe tbody tr th {\n",
       "        vertical-align: top;\n",
       "    }\n",
       "\n",
       "    .dataframe thead th {\n",
       "        text-align: right;\n",
       "    }\n",
       "</style>\n",
       "<table border=\"1\" class=\"dataframe\">\n",
       "  <thead>\n",
       "    <tr style=\"text-align: right;\">\n",
       "      <th></th>\n",
       "      <th>Delivery Date</th>\n",
       "      <th>Hour Ending</th>\n",
       "      <th>Repeated Hour Flag</th>\n",
       "      <th>REGDN</th>\n",
       "      <th>REGUP</th>\n",
       "      <th>RRS</th>\n",
       "      <th>NSPIN</th>\n",
       "    </tr>\n",
       "  </thead>\n",
       "  <tbody>\n",
       "    <tr>\n",
       "      <th>0</th>\n",
       "      <td>01/01/2021</td>\n",
       "      <td>01:00</td>\n",
       "      <td>N</td>\n",
       "      <td>1.05</td>\n",
       "      <td>0.01</td>\n",
       "      <td>4.63</td>\n",
       "      <td>0.49</td>\n",
       "    </tr>\n",
       "    <tr>\n",
       "      <th>1</th>\n",
       "      <td>01/01/2021</td>\n",
       "      <td>02:00</td>\n",
       "      <td>N</td>\n",
       "      <td>0.91</td>\n",
       "      <td>4.00</td>\n",
       "      <td>4.21</td>\n",
       "      <td>0.49</td>\n",
       "    </tr>\n",
       "    <tr>\n",
       "      <th>2</th>\n",
       "      <td>01/01/2021</td>\n",
       "      <td>03:00</td>\n",
       "      <td>N</td>\n",
       "      <td>0.47</td>\n",
       "      <td>4.00</td>\n",
       "      <td>4.01</td>\n",
       "      <td>0.71</td>\n",
       "    </tr>\n",
       "    <tr>\n",
       "      <th>3</th>\n",
       "      <td>01/01/2021</td>\n",
       "      <td>04:00</td>\n",
       "      <td>N</td>\n",
       "      <td>0.17</td>\n",
       "      <td>4.00</td>\n",
       "      <td>4.10</td>\n",
       "      <td>0.74</td>\n",
       "    </tr>\n",
       "    <tr>\n",
       "      <th>4</th>\n",
       "      <td>01/01/2021</td>\n",
       "      <td>05:00</td>\n",
       "      <td>N</td>\n",
       "      <td>1.34</td>\n",
       "      <td>4.49</td>\n",
       "      <td>4.50</td>\n",
       "      <td>0.91</td>\n",
       "    </tr>\n",
       "    <tr>\n",
       "      <th>...</th>\n",
       "      <td>...</td>\n",
       "      <td>...</td>\n",
       "      <td>...</td>\n",
       "      <td>...</td>\n",
       "      <td>...</td>\n",
       "      <td>...</td>\n",
       "      <td>...</td>\n",
       "    </tr>\n",
       "    <tr>\n",
       "      <th>8755</th>\n",
       "      <td>12/31/2021</td>\n",
       "      <td>20:00</td>\n",
       "      <td>N</td>\n",
       "      <td>15.01</td>\n",
       "      <td>7.00</td>\n",
       "      <td>11.00</td>\n",
       "      <td>6.56</td>\n",
       "    </tr>\n",
       "    <tr>\n",
       "      <th>8756</th>\n",
       "      <td>12/31/2021</td>\n",
       "      <td>21:00</td>\n",
       "      <td>N</td>\n",
       "      <td>12.00</td>\n",
       "      <td>4.75</td>\n",
       "      <td>8.75</td>\n",
       "      <td>4.96</td>\n",
       "    </tr>\n",
       "    <tr>\n",
       "      <th>8757</th>\n",
       "      <td>12/31/2021</td>\n",
       "      <td>22:00</td>\n",
       "      <td>N</td>\n",
       "      <td>8.80</td>\n",
       "      <td>7.74</td>\n",
       "      <td>11.80</td>\n",
       "      <td>4.62</td>\n",
       "    </tr>\n",
       "    <tr>\n",
       "      <th>8758</th>\n",
       "      <td>12/31/2021</td>\n",
       "      <td>23:00</td>\n",
       "      <td>N</td>\n",
       "      <td>9.00</td>\n",
       "      <td>5.52</td>\n",
       "      <td>8.92</td>\n",
       "      <td>4.15</td>\n",
       "    </tr>\n",
       "    <tr>\n",
       "      <th>8759</th>\n",
       "      <td>12/31/2021</td>\n",
       "      <td>24:00</td>\n",
       "      <td>N</td>\n",
       "      <td>7.78</td>\n",
       "      <td>5.43</td>\n",
       "      <td>8.65</td>\n",
       "      <td>4.00</td>\n",
       "    </tr>\n",
       "  </tbody>\n",
       "</table>\n",
       "<p>8760 rows × 7 columns</p>\n",
       "</div>"
      ],
      "text/plain": [
       "     Delivery Date Hour Ending Repeated Hour Flag  REGDN  REGUP     RRS  NSPIN\n",
       "0       01/01/2021       01:00                  N   1.05    0.01   4.63   0.49\n",
       "1       01/01/2021       02:00                  N   0.91    4.00   4.21   0.49\n",
       "2       01/01/2021       03:00                  N   0.47    4.00   4.01   0.71\n",
       "3       01/01/2021       04:00                  N   0.17    4.00   4.10   0.74\n",
       "4       01/01/2021       05:00                  N   1.34    4.49   4.50   0.91\n",
       "...            ...         ...                ...    ...     ...    ...    ...\n",
       "8755    12/31/2021       20:00                  N  15.01    7.00  11.00   6.56\n",
       "8756    12/31/2021       21:00                  N  12.00    4.75   8.75   4.96\n",
       "8757    12/31/2021       22:00                  N   8.80    7.74  11.80   4.62\n",
       "8758    12/31/2021       23:00                  N   9.00    5.52   8.92   4.15\n",
       "8759    12/31/2021       24:00                  N   7.78    5.43   8.65   4.00\n",
       "\n",
       "[8760 rows x 7 columns]"
      ]
     },
     "execution_count": 51,
     "metadata": {},
     "output_type": "execute_result"
    }
   ],
   "source": [
    "df"
   ]
  },
  {
   "cell_type": "code",
   "execution_count": 49,
   "id": "427bdfe0",
   "metadata": {},
   "outputs": [
    {
     "data": {
      "text/plain": [
       "'00:00'"
      ]
     },
     "execution_count": 49,
     "metadata": {},
     "output_type": "execute_result"
    }
   ],
   "source": [
    "ts_df.iloc[23][1]"
   ]
  },
  {
   "cell_type": "code",
   "execution_count": 46,
   "id": "73c6956d",
   "metadata": {},
   "outputs": [
    {
     "data": {
      "text/plain": [
       "Delivery Date    01/01/2021 24:00\n",
       "Hour Ending                 00:00\n",
       "REGDN                         6.0\n",
       "Name: 23, dtype: object"
      ]
     },
     "execution_count": 46,
     "metadata": {},
     "output_type": "execute_result"
    }
   ],
   "source": [
    "ts_df.iloc[23]"
   ]
  },
  {
   "cell_type": "code",
   "execution_count": 99,
   "id": "1520a030",
   "metadata": {},
   "outputs": [],
   "source": [
    "ts_df['Delivery Date'] = pd.to_datetime(ts_df['Delivery Date'])"
   ]
  },
  {
   "cell_type": "code",
   "execution_count": 20,
   "id": "632b9928",
   "metadata": {},
   "outputs": [
    {
     "data": {
      "text/plain": [
       "'01:00'"
      ]
     },
     "execution_count": 20,
     "metadata": {},
     "output_type": "execute_result"
    }
   ],
   "source": [
    "df['Hour Ending'][0]"
   ]
  },
  {
   "cell_type": "code",
   "execution_count": 98,
   "id": "5805befb",
   "metadata": {},
   "outputs": [
    {
     "data": {
      "text/plain": [
       "datetime.date(2021, 1, 1)"
      ]
     },
     "execution_count": 98,
     "metadata": {},
     "output_type": "execute_result"
    }
   ],
   "source": [
    "ts_df['Delivery Date'][1]"
   ]
  },
  {
   "cell_type": "code",
   "execution_count": 101,
   "id": "0ac57afd",
   "metadata": {},
   "outputs": [
    {
     "ename": "TypeError",
     "evalue": "'>=' not supported between instances of 'Timestamp' and 'str'",
     "output_type": "error",
     "traceback": [
      "\u001b[0;31m---------------------------------------------------------------------------\u001b[0m",
      "\u001b[0;31mTypeError\u001b[0m                                 Traceback (most recent call last)",
      "Cell \u001b[0;32mIn [101], line 1\u001b[0m\n\u001b[0;32m----> 1\u001b[0m ts_df[\u001b[38;5;124m'\u001b[39m\u001b[38;5;124mDelivery Date\u001b[39m\u001b[38;5;124m'\u001b[39m][\u001b[38;5;241m1\u001b[39m] \u001b[38;5;241m>\u001b[39m\u001b[38;5;241m=\u001b[39m \u001b[38;5;124m'\u001b[39m\u001b[38;5;124m2021-01-01\u001b[39m\u001b[38;5;124m'\u001b[39m\n",
      "\u001b[0;31mTypeError\u001b[0m: '>=' not supported between instances of 'Timestamp' and 'str'"
     ]
    }
   ],
   "source": [
    "ts_df['Delivery Date'][1] >= '2021-01-01'"
   ]
  },
  {
   "cell_type": "code",
   "execution_count": 84,
   "id": "c2fe988e",
   "metadata": {},
   "outputs": [
    {
     "data": {
      "text/plain": [
       "'2021'"
      ]
     },
     "execution_count": 84,
     "metadata": {},
     "output_type": "execute_result"
    }
   ],
   "source": [
    "year_selected"
   ]
  },
  {
   "cell_type": "code",
   "execution_count": 85,
   "id": "da7ad7ca",
   "metadata": {},
   "outputs": [],
   "source": [
    "import calendar\n",
    "\n",
    "month_selected = \"January\"\n",
    "\n",
    "month_names = list(calendar.month_name)\n",
    "month_number = month_names.index(month_selected)\n",
    "\n",
    "start_date = date(int(year_selected), month_number, 1)\n",
    "end_date = date(int(year_selected), month_number, calendar.monthrange(int(year_selected), month_number)[1])"
   ]
  },
  {
   "cell_type": "code",
   "execution_count": 83,
   "id": "3f233743",
   "metadata": {},
   "outputs": [
    {
     "data": {
      "text/plain": [
       "datetime.date(2021, 1, 1)"
      ]
     },
     "execution_count": 83,
     "metadata": {},
     "output_type": "execute_result"
    }
   ],
   "source": [
    "start_date"
   ]
  },
  {
   "cell_type": "code",
   "execution_count": 90,
   "id": "14feb666",
   "metadata": {},
   "outputs": [
    {
     "ename": "AttributeError",
     "evalue": "'datetime.date' object has no attribute 'dt'",
     "output_type": "error",
     "traceback": [
      "\u001b[0;31m---------------------------------------------------------------------------\u001b[0m",
      "\u001b[0;31mAttributeError\u001b[0m                            Traceback (most recent call last)",
      "Cell \u001b[0;32mIn [90], line 1\u001b[0m\n\u001b[0;32m----> 1\u001b[0m end_date\u001b[38;5;241m.\u001b[39mdt\n",
      "\u001b[0;31mAttributeError\u001b[0m: 'datetime.date' object has no attribute 'dt'"
     ]
    }
   ],
   "source": [
    "end_date"
   ]
  },
  {
   "cell_type": "code",
   "execution_count": 96,
   "id": "6d2c1e39",
   "metadata": {},
   "outputs": [],
   "source": [
    "\n",
    "\n",
    "mask = (ts_df['Delivery Date'] >= start_date) & (ts_df['Delivery Date'] <= end_date)"
   ]
  },
  {
   "cell_type": "code",
   "execution_count": 95,
   "id": "efdcaa96",
   "metadata": {},
   "outputs": [
    {
     "data": {
      "text/html": [
       "<div>\n",
       "<style scoped>\n",
       "    .dataframe tbody tr th:only-of-type {\n",
       "        vertical-align: middle;\n",
       "    }\n",
       "\n",
       "    .dataframe tbody tr th {\n",
       "        vertical-align: top;\n",
       "    }\n",
       "\n",
       "    .dataframe thead th {\n",
       "        text-align: right;\n",
       "    }\n",
       "</style>\n",
       "<table border=\"1\" class=\"dataframe\">\n",
       "  <thead>\n",
       "    <tr style=\"text-align: right;\">\n",
       "      <th></th>\n",
       "      <th>Delivery Date</th>\n",
       "      <th>Hour Ending</th>\n",
       "      <th>REGDN</th>\n",
       "    </tr>\n",
       "  </thead>\n",
       "  <tbody>\n",
       "    <tr>\n",
       "      <th>0</th>\n",
       "      <td>2021-01-01</td>\n",
       "      <td>01:00</td>\n",
       "      <td>1.05</td>\n",
       "    </tr>\n",
       "    <tr>\n",
       "      <th>1</th>\n",
       "      <td>2021-01-01</td>\n",
       "      <td>02:00</td>\n",
       "      <td>0.91</td>\n",
       "    </tr>\n",
       "    <tr>\n",
       "      <th>2</th>\n",
       "      <td>2021-01-01</td>\n",
       "      <td>03:00</td>\n",
       "      <td>0.47</td>\n",
       "    </tr>\n",
       "    <tr>\n",
       "      <th>3</th>\n",
       "      <td>2021-01-01</td>\n",
       "      <td>04:00</td>\n",
       "      <td>0.17</td>\n",
       "    </tr>\n",
       "    <tr>\n",
       "      <th>4</th>\n",
       "      <td>2021-01-01</td>\n",
       "      <td>05:00</td>\n",
       "      <td>1.34</td>\n",
       "    </tr>\n",
       "    <tr>\n",
       "      <th>...</th>\n",
       "      <td>...</td>\n",
       "      <td>...</td>\n",
       "      <td>...</td>\n",
       "    </tr>\n",
       "    <tr>\n",
       "      <th>739</th>\n",
       "      <td>2021-01-31</td>\n",
       "      <td>20:00</td>\n",
       "      <td>8.00</td>\n",
       "    </tr>\n",
       "    <tr>\n",
       "      <th>740</th>\n",
       "      <td>2021-01-31</td>\n",
       "      <td>21:00</td>\n",
       "      <td>8.00</td>\n",
       "    </tr>\n",
       "    <tr>\n",
       "      <th>741</th>\n",
       "      <td>2021-01-31</td>\n",
       "      <td>22:00</td>\n",
       "      <td>7.32</td>\n",
       "    </tr>\n",
       "    <tr>\n",
       "      <th>742</th>\n",
       "      <td>2021-01-31</td>\n",
       "      <td>23:00</td>\n",
       "      <td>6.00</td>\n",
       "    </tr>\n",
       "    <tr>\n",
       "      <th>743</th>\n",
       "      <td>2021-01-31</td>\n",
       "      <td>00:00</td>\n",
       "      <td>6.00</td>\n",
       "    </tr>\n",
       "  </tbody>\n",
       "</table>\n",
       "<p>744 rows × 3 columns</p>\n",
       "</div>"
      ],
      "text/plain": [
       "    Delivery Date Hour Ending  REGDN\n",
       "0      2021-01-01       01:00   1.05\n",
       "1      2021-01-01       02:00   0.91\n",
       "2      2021-01-01       03:00   0.47\n",
       "3      2021-01-01       04:00   0.17\n",
       "4      2021-01-01       05:00   1.34\n",
       "..            ...         ...    ...\n",
       "739    2021-01-31       20:00   8.00\n",
       "740    2021-01-31       21:00   8.00\n",
       "741    2021-01-31       22:00   7.32\n",
       "742    2021-01-31       23:00   6.00\n",
       "743    2021-01-31       00:00   6.00\n",
       "\n",
       "[744 rows x 3 columns]"
      ]
     },
     "execution_count": 95,
     "metadata": {},
     "output_type": "execute_result"
    }
   ],
   "source": [
    "ts_df[mask]"
   ]
  },
  {
   "cell_type": "code",
   "execution_count": 59,
   "id": "88202e05",
   "metadata": {},
   "outputs": [
    {
     "data": {
      "text/plain": [
       "'October'"
      ]
     },
     "execution_count": 59,
     "metadata": {},
     "output_type": "execute_result"
    }
   ],
   "source": [
    "import datetime\n",
    "mydate = datetime.datetime.now()\n",
    "mydate.strftime(\"%B\")"
   ]
  },
  {
   "cell_type": "code",
   "execution_count": 60,
   "id": "76a86a2f",
   "metadata": {},
   "outputs": [
    {
     "data": {
      "text/plain": [
       "datetime.datetime(2022, 10, 6, 17, 31, 31, 497741)"
      ]
     },
     "execution_count": 60,
     "metadata": {},
     "output_type": "execute_result"
    }
   ],
   "source": [
    "mydate"
   ]
  },
  {
   "cell_type": "code",
   "execution_count": 67,
   "id": "d51f244a",
   "metadata": {},
   "outputs": [
    {
     "ename": "TypeError",
     "evalue": "strptime() argument 1 must be str, not Series",
     "output_type": "error",
     "traceback": [
      "\u001b[0;31m---------------------------------------------------------------------------\u001b[0m",
      "\u001b[0;31mTypeError\u001b[0m                                 Traceback (most recent call last)",
      "Cell \u001b[0;32mIn [67], line 1\u001b[0m\n\u001b[0;32m----> 1\u001b[0m datem \u001b[38;5;241m=\u001b[39m datetime\u001b[38;5;241m.\u001b[39mdatetime\u001b[38;5;241m.\u001b[39mstrptime(ts_df[\u001b[38;5;124m'\u001b[39m\u001b[38;5;124mDelivery Date\u001b[39m\u001b[38;5;124m'\u001b[39m], \u001b[38;5;124m\"\u001b[39m\u001b[38;5;124m%\u001b[39m\u001b[38;5;124mm/\u001b[39m\u001b[38;5;132;01m%d\u001b[39;00m\u001b[38;5;124m/\u001b[39m\u001b[38;5;124m%\u001b[39m\u001b[38;5;124mY \u001b[39m\u001b[38;5;124m%\u001b[39m\u001b[38;5;124mH:\u001b[39m\u001b[38;5;124m%\u001b[39m\u001b[38;5;124mM\u001b[39m\u001b[38;5;124m\"\u001b[39m)\n",
      "\u001b[0;31mTypeError\u001b[0m: strptime() argument 1 must be str, not Series"
     ]
    }
   ],
   "source": [
    "datem = datetime.datetime.strptime(ts_df['Delivery Date'], \"%m/%d/%Y %H:%M\")"
   ]
  },
  {
   "cell_type": "code",
   "execution_count": 65,
   "id": "da9e653c",
   "metadata": {},
   "outputs": [
    {
     "data": {
      "text/plain": [
       "datetime.datetime(2021, 1, 1, 2, 0)"
      ]
     },
     "execution_count": 65,
     "metadata": {},
     "output_type": "execute_result"
    }
   ],
   "source": [
    "datem"
   ]
  },
  {
   "cell_type": "code",
   "execution_count": 66,
   "id": "849acfe5",
   "metadata": {},
   "outputs": [],
   "source": [
    "month_name = \"January\""
   ]
  },
  {
   "cell_type": "code",
   "execution_count": 102,
   "id": "76061092",
   "metadata": {},
   "outputs": [
    {
     "data": {
      "text/html": [
       "<div>\n",
       "<style scoped>\n",
       "    .dataframe tbody tr th:only-of-type {\n",
       "        vertical-align: middle;\n",
       "    }\n",
       "\n",
       "    .dataframe tbody tr th {\n",
       "        vertical-align: top;\n",
       "    }\n",
       "\n",
       "    .dataframe thead th {\n",
       "        text-align: right;\n",
       "    }\n",
       "</style>\n",
       "<table border=\"1\" class=\"dataframe\">\n",
       "  <thead>\n",
       "    <tr style=\"text-align: right;\">\n",
       "      <th></th>\n",
       "      <th>Delivery Date</th>\n",
       "      <th>Hour Ending</th>\n",
       "      <th>Repeated Hour Flag</th>\n",
       "      <th>REGDN</th>\n",
       "      <th>REGUP</th>\n",
       "      <th>RRS</th>\n",
       "      <th>NSPIN</th>\n",
       "    </tr>\n",
       "  </thead>\n",
       "  <tbody>\n",
       "    <tr>\n",
       "      <th>0</th>\n",
       "      <td>01/01/2021</td>\n",
       "      <td>01:00</td>\n",
       "      <td>N</td>\n",
       "      <td>1.05</td>\n",
       "      <td>0.01</td>\n",
       "      <td>4.63</td>\n",
       "      <td>0.49</td>\n",
       "    </tr>\n",
       "    <tr>\n",
       "      <th>1</th>\n",
       "      <td>01/01/2021</td>\n",
       "      <td>02:00</td>\n",
       "      <td>N</td>\n",
       "      <td>0.91</td>\n",
       "      <td>4.00</td>\n",
       "      <td>4.21</td>\n",
       "      <td>0.49</td>\n",
       "    </tr>\n",
       "    <tr>\n",
       "      <th>2</th>\n",
       "      <td>01/01/2021</td>\n",
       "      <td>03:00</td>\n",
       "      <td>N</td>\n",
       "      <td>0.47</td>\n",
       "      <td>4.00</td>\n",
       "      <td>4.01</td>\n",
       "      <td>0.71</td>\n",
       "    </tr>\n",
       "    <tr>\n",
       "      <th>3</th>\n",
       "      <td>01/01/2021</td>\n",
       "      <td>04:00</td>\n",
       "      <td>N</td>\n",
       "      <td>0.17</td>\n",
       "      <td>4.00</td>\n",
       "      <td>4.10</td>\n",
       "      <td>0.74</td>\n",
       "    </tr>\n",
       "    <tr>\n",
       "      <th>4</th>\n",
       "      <td>01/01/2021</td>\n",
       "      <td>05:00</td>\n",
       "      <td>N</td>\n",
       "      <td>1.34</td>\n",
       "      <td>4.49</td>\n",
       "      <td>4.50</td>\n",
       "      <td>0.91</td>\n",
       "    </tr>\n",
       "    <tr>\n",
       "      <th>...</th>\n",
       "      <td>...</td>\n",
       "      <td>...</td>\n",
       "      <td>...</td>\n",
       "      <td>...</td>\n",
       "      <td>...</td>\n",
       "      <td>...</td>\n",
       "      <td>...</td>\n",
       "    </tr>\n",
       "    <tr>\n",
       "      <th>8755</th>\n",
       "      <td>12/31/2021</td>\n",
       "      <td>20:00</td>\n",
       "      <td>N</td>\n",
       "      <td>15.01</td>\n",
       "      <td>7.00</td>\n",
       "      <td>11.00</td>\n",
       "      <td>6.56</td>\n",
       "    </tr>\n",
       "    <tr>\n",
       "      <th>8756</th>\n",
       "      <td>12/31/2021</td>\n",
       "      <td>21:00</td>\n",
       "      <td>N</td>\n",
       "      <td>12.00</td>\n",
       "      <td>4.75</td>\n",
       "      <td>8.75</td>\n",
       "      <td>4.96</td>\n",
       "    </tr>\n",
       "    <tr>\n",
       "      <th>8757</th>\n",
       "      <td>12/31/2021</td>\n",
       "      <td>22:00</td>\n",
       "      <td>N</td>\n",
       "      <td>8.80</td>\n",
       "      <td>7.74</td>\n",
       "      <td>11.80</td>\n",
       "      <td>4.62</td>\n",
       "    </tr>\n",
       "    <tr>\n",
       "      <th>8758</th>\n",
       "      <td>12/31/2021</td>\n",
       "      <td>23:00</td>\n",
       "      <td>N</td>\n",
       "      <td>9.00</td>\n",
       "      <td>5.52</td>\n",
       "      <td>8.92</td>\n",
       "      <td>4.15</td>\n",
       "    </tr>\n",
       "    <tr>\n",
       "      <th>8759</th>\n",
       "      <td>12/31/2021</td>\n",
       "      <td>24:00</td>\n",
       "      <td>N</td>\n",
       "      <td>7.78</td>\n",
       "      <td>5.43</td>\n",
       "      <td>8.65</td>\n",
       "      <td>4.00</td>\n",
       "    </tr>\n",
       "  </tbody>\n",
       "</table>\n",
       "<p>8760 rows × 7 columns</p>\n",
       "</div>"
      ],
      "text/plain": [
       "     Delivery Date Hour Ending Repeated Hour Flag  REGDN  REGUP     RRS  NSPIN\n",
       "0       01/01/2021       01:00                  N   1.05    0.01   4.63   0.49\n",
       "1       01/01/2021       02:00                  N   0.91    4.00   4.21   0.49\n",
       "2       01/01/2021       03:00                  N   0.47    4.00   4.01   0.71\n",
       "3       01/01/2021       04:00                  N   0.17    4.00   4.10   0.74\n",
       "4       01/01/2021       05:00                  N   1.34    4.49   4.50   0.91\n",
       "...            ...         ...                ...    ...     ...    ...    ...\n",
       "8755    12/31/2021       20:00                  N  15.01    7.00  11.00   6.56\n",
       "8756    12/31/2021       21:00                  N  12.00    4.75   8.75   4.96\n",
       "8757    12/31/2021       22:00                  N   8.80    7.74  11.80   4.62\n",
       "8758    12/31/2021       23:00                  N   9.00    5.52   8.92   4.15\n",
       "8759    12/31/2021       24:00                  N   7.78    5.43   8.65   4.00\n",
       "\n",
       "[8760 rows x 7 columns]"
      ]
     },
     "execution_count": 102,
     "metadata": {},
     "output_type": "execute_result"
    }
   ],
   "source": [
    "df"
   ]
  },
  {
   "cell_type": "code",
   "execution_count": null,
   "id": "70f8f1f9",
   "metadata": {},
   "outputs": [],
   "source": []
  }
 ],
 "metadata": {
  "kernelspec": {
   "display_name": "Python 3 (ipykernel)",
   "language": "python",
   "name": "python3"
  },
  "language_info": {
   "codemirror_mode": {
    "name": "ipython",
    "version": 3
   },
   "file_extension": ".py",
   "mimetype": "text/x-python",
   "name": "python",
   "nbconvert_exporter": "python",
   "pygments_lexer": "ipython3",
   "version": "3.10.6"
  }
 },
 "nbformat": 4,
 "nbformat_minor": 5
}
